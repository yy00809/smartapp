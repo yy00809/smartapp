{
 "cells": [
  {
   "cell_type": "markdown",
   "metadata": {},
   "source": [
    "## Spark Demo 1   - A simple Euler sum computation\n",
    "This is a very trivial demo of spark.   If you download and install spark from spark-2.0.2-bin-hadoop2.7 then cd to that directory and do the following \n",
    "<pre>\n",
    "$ export PYSPARK_DRIVER_PYTHON=Jupyter\n",
    "$ export PYSPARK_DRIVER_PYTHON_OPTS=notebook\n",
    "$bin/pyspark \n",
    "</pre>\n",
    "Jupyter will come up in that directory with the spark context \"sc\" already loaded.  The usual way to get tthe spark context is \n",
    "<pre>\n",
    "sc = pyspark.SparkContext('local[*]')\n",
    "</pre>\n",
    "which tell spark to use all available cores on the local machine.   For other clusters you may need something else."
   ]
  },
  {
   "cell_type": "code",
   "execution_count": 1,
   "metadata": {},
   "outputs": [],
   "source": [
    "import numpy as np\n",
    "import pyspark\n",
    "import time"
   ]
  },
  {
   "cell_type": "code",
   "execution_count": 2,
   "metadata": {},
   "outputs": [],
   "source": [
    "n = 10000000\n",
    "ar = np.arange(n)"
   ]
  },
  {
   "cell_type": "code",
   "execution_count": 3,
   "metadata": {},
   "outputs": [
    {
     "data": {
      "text/plain": [
       "array([      0,       1,       2, ..., 9999997, 9999998, 9999999])"
      ]
     },
     "execution_count": 3,
     "metadata": {},
     "output_type": "execute_result"
    }
   ],
   "source": [
    "ar"
   ]
  },
  {
   "cell_type": "markdown",
   "metadata": {},
   "source": [
    "grab the spark context convert ar into a Spark RDD with 16 partitions."
   ]
  },
  {
   "cell_type": "code",
   "execution_count": 5,
   "metadata": {},
   "outputs": [],
   "source": [
    "#sc = pyspark.SparkContext('local[*]')\n",
    "\n",
    "sc =  pyspark.SparkContext.getOrCreate();\n",
    "\n"
   ]
  },
  {
   "cell_type": "markdown",
   "metadata": {},
   "source": [
    "This is where we create our first RDD called 'dat' from our array.   In this simple case the RDD will have 2 partitions."
   ]
  },
  {
   "cell_type": "code",
   "execution_count": 6,
   "metadata": {},
   "outputs": [],
   "source": [
    "numpartitions = 2\n",
    "dat = sc.parallelize(ar, numpartitions)"
   ]
  },
  {
   "cell_type": "markdown",
   "metadata": {},
   "source": [
    "For fun let's compute $\\sum_{i=1}^{n}(1/i^2)$ that Euler in 1735 proved: $$\\lim_{n->\\infty}\\sum_{i=1}^{n}\\frac{1}{i^2} = \\frac{\\pi^2}{6}$$"
   ]
  },
  {
   "cell_type": "markdown",
   "metadata": {},
   "source": [
    "now we will apply a simple map operation to compute $\\frac{1}{i^2}$ for each i.   Note that we do not actually execute this operation until we resolve the data back to the shell.   That will come with the reduce step below."
   ]
  },
  {
   "cell_type": "code",
   "execution_count": 7,
   "metadata": {},
   "outputs": [],
   "source": [
    "sqrs = dat.map(lambda i: 1.0/(i+1)**2)"
   ]
  },
  {
   "cell_type": "code",
   "execution_count": 8,
   "metadata": {},
   "outputs": [],
   "source": [
    "t0 = time.time()\n",
    "x = sqrs.reduce(lambda a,b: a+b)\n",
    "t1 = time.time()"
   ]
  },
  {
   "cell_type": "code",
   "execution_count": 9,
   "metadata": {},
   "outputs": [
    {
     "name": "stdout",
     "output_type": "stream",
     "text": [
      "x = 1.644934\n",
      "time=40.480778\n"
     ]
    }
   ],
   "source": [
    "print(\"x = %f\"%x)\n",
    "print(\"time=%f\"%(t1-t0))"
   ]
  },
  {
   "cell_type": "code",
   "execution_count": 10,
   "metadata": {},
   "outputs": [
    {
     "name": "stdout",
     "output_type": "stream",
     "text": [
      "pi**2/6=1.644934\n"
     ]
    }
   ],
   "source": [
    "print(\"pi**2/6=%f\"%((np.pi**2)/6))"
   ]
  },
  {
   "cell_type": "markdown",
   "metadata": {},
   "source": [
    "We rean this on 8 cores and the performance for different partition numbers was\n",
    "\n",
    "part = 16 time=6.939963\n",
    "\n",
    "part = 64 time = 6.214874\n",
    "\n",
    "part = 128 time=6.213802\n"
   ]
  },
  {
   "cell_type": "code",
   "execution_count": 11,
   "metadata": {},
   "outputs": [
    {
     "name": "stdout",
     "output_type": "stream",
     "text": [
      "x = 1.644934\n",
      "time=5.217625\n"
     ]
    }
   ],
   "source": [
    "x = 0.0\n",
    "t0 = time.time()\n",
    "for i in range(1,n):\n",
    "    x += 1.0/(i**2)\n",
    "t1 = time.time()\n",
    "print(\"x = %f\"%x)\n",
    "print(\"time=%f\"%(t1-t0))"
   ]
  },
  {
   "cell_type": "code",
   "execution_count": null,
   "metadata": {},
   "outputs": [],
   "source": []
  }
 ],
 "metadata": {
  "kernelspec": {
   "display_name": "Python 3",
   "language": "python",
   "name": "python3"
  },
  "language_info": {
   "codemirror_mode": {
    "name": "ipython",
    "version": 3
   },
   "file_extension": ".py",
   "mimetype": "text/x-python",
   "name": "python",
   "nbconvert_exporter": "python",
   "pygments_lexer": "ipython3",
   "version": "3.7.6"
  }
 },
 "nbformat": 4,
 "nbformat_minor": 1
}
